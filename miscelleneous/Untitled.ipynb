{
 "cells": [
  {
   "cell_type": "code",
   "execution_count": 10,
   "metadata": {
    "collapsed": true
   },
   "outputs": [],
   "source": [
    "def isAnagram(str1, str2):\n",
    "    histgram = {}\n",
    "    for ch1 in str1:\n",
    "        if ch1 in histgram:\n",
    "            histgram[ch1] += 1\n",
    "        else:\n",
    "            histgram[ch1] = 0\n",
    "    for ch2 in str2:\n",
    "        if ch2 in histgram:\n",
    "            if histgram[ch2] == 0:\n",
    "                return False\n",
    "            histgram[ch2] -= 1\n",
    "        else:\n",
    "            return False\n",
    "    \n",
    "    for key in histgram:\n",
    "        if histgram[key] != 0:\n",
    "            return False\n",
    "    \n",
    "    return True\n",
    "\n",
    "# input ['xyz', 'abc' 'cba', 'bac']\n",
    "# output [['xyz'], ['abc', 'cba', 'bac']]\n",
    "\n",
    "def converter(ary):\n",
    "    result = []\n",
    "    \n",
    "    for elm in ary:\n",
    "        isPushed = False\n",
    "        for part in result:\n",
    "            # part: ex) ['wyz']\n",
    "            #print(result)\n",
    "            if isAnagram(part[0], elm):\n",
    "                part.append(elm)\n",
    "                isPushed = True\n",
    "                break\n",
    "        if isPushed == False:\n",
    "            result.append([elm])\n",
    "            \n",
    "    return result\n"
   ]
  },
  {
   "cell_type": "code",
   "execution_count": 11,
   "metadata": {
    "collapsed": false
   },
   "outputs": [
    {
     "name": "stdout",
     "output_type": "stream",
     "text": [
      "[['xyz'], ['abc'], ['cba'], ['bac']]\n"
     ]
    }
   ],
   "source": [
    "print(converter(['xyz', 'abc', 'cba', 'bac']))"
   ]
  },
  {
   "cell_type": "code",
   "execution_count": null,
   "metadata": {
    "collapsed": true
   },
   "outputs": [],
   "source": []
  },
  {
   "cell_type": "code",
   "execution_count": null,
   "metadata": {
    "collapsed": true
   },
   "outputs": [],
   "source": []
  }
 ],
 "metadata": {
  "kernelspec": {
   "display_name": "Python 3",
   "language": "python",
   "name": "python3"
  },
  "language_info": {
   "codemirror_mode": {
    "name": "ipython",
    "version": 3
   },
   "file_extension": ".py",
   "mimetype": "text/x-python",
   "name": "python",
   "nbconvert_exporter": "python",
   "pygments_lexer": "ipython3",
   "version": "3.6.0"
  }
 },
 "nbformat": 4,
 "nbformat_minor": 2
}
