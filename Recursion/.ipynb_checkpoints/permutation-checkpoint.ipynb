{
 "cells": [
  {
   "cell_type": "code",
   "execution_count": null,
   "metadata": {
    "collapsed": true
   },
   "outputs": [],
   "source": [
    "def insert(str, idx, chr):\n",
    "    tmp = str[0:idx]\n",
    "    return tmp + str + str[idx:]\n",
    "\n",
    "\n",
    "def permute(s):\n",
    "    if len(s) == 1:\n",
    "        return [s]\n",
    "    \n",
    "    past_result = permute(s-1)\n",
    "    \n",
    "        \n",
    "        "
   ]
  }
 ],
 "metadata": {
  "kernelspec": {
   "display_name": "Python 3",
   "language": "python",
   "name": "python3"
  },
  "language_info": {
   "codemirror_mode": {
    "name": "ipython",
    "version": 3
   },
   "file_extension": ".py",
   "mimetype": "text/x-python",
   "name": "python",
   "nbconvert_exporter": "python",
   "pygments_lexer": "ipython3",
   "version": "3.6.0"
  }
 },
 "nbformat": 4,
 "nbformat_minor": 2
}
