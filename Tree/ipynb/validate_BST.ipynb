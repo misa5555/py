{
 "cells": [
  {
   "cell_type": "code",
   "execution_count": null,
   "metadata": {
    "collapsed": true
   },
   "outputs": [],
   "source": [
    "def is_bsd(tree):\n",
    "    if tree.left == None and tree.right == None:\n",
    "        return True\n",
    "    left = tree.left\n",
    "    right = tree.right\n",
    "    \n",
    "    if tree.root < right.root and tree > left.root and is_bsd(left) and is_bsd(right):\n",
    "        return True\n",
    "    else:\n",
    "        return False\n",
    "    \n"
   ]
  }
 ],
 "metadata": {
  "kernelspec": {
   "display_name": "Python 3",
   "language": "python",
   "name": "python3"
  },
  "language_info": {
   "codemirror_mode": {
    "name": "ipython",
    "version": 3
   },
   "file_extension": ".py",
   "mimetype": "text/x-python",
   "name": "python",
   "nbconvert_exporter": "python",
   "pygments_lexer": "ipython3",
   "version": "3.6.0"
  }
 },
 "nbformat": 4,
 "nbformat_minor": 2
}
