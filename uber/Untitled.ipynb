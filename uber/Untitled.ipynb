{
 "cells": [
  {
   "cell_type": "code",
   "execution_count": 9,
   "metadata": {
    "collapsed": true
   },
   "outputs": [],
   "source": [
    "def apple(num):\n",
    "    return num+2"
   ]
  },
  {
   "cell_type": "code",
   "execution_count": 10,
   "metadata": {
    "collapsed": false
   },
   "outputs": [
    {
     "data": {
      "text/plain": [
       "6"
      ]
     },
     "execution_count": 10,
     "metadata": {},
     "output_type": "execute_result"
    }
   ],
   "source": [
    "apple(4)"
   ]
  },
  {
   "cell_type": "code",
   "execution_count": null,
   "metadata": {
    "collapsed": true
   },
   "outputs": [],
   "source": [
    "# assume that coins are ordered, ex) [1, 5, 10, 25, 50]\n",
    "\n",
    "def sol(target, coins):\n",
    "    # base condition\n",
    "    if len(coins) == 1:\n",
    "        if target % coins[0] == 0:\n",
    "            return 1\n",
    "        else:\n",
    "            return None\n",
    "    coin = coins.pop()\n",
    "    \n",
    "    max_coin = target // coin\n",
    "    i = 0\n",
    "    result = 0\n",
    "    while i <= max_coin:\n",
    "        next_result = sol(target - coin*i, coins)\n",
    "        if next_result:\n",
    "            result += next_result\n",
    "    return result"
   ]
  }
 ],
 "metadata": {
  "kernelspec": {
   "display_name": "Python 3",
   "language": "python",
   "name": "python3"
  },
  "language_info": {
   "codemirror_mode": {
    "name": "ipython",
    "version": 3
   },
   "file_extension": ".py",
   "mimetype": "text/x-python",
   "name": "python",
   "nbconvert_exporter": "python",
   "pygments_lexer": "ipython3",
   "version": "3.6.0"
  }
 },
 "nbformat": 4,
 "nbformat_minor": 2
}
