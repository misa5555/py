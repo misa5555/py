{
 "cells": [
  {
   "cell_type": "code",
   "execution_count": 58,
   "metadata": {
    "collapsed": false
   },
   "outputs": [],
   "source": [
    "def max_prod(arr):\n",
    "    # array to store only 3 maximum plus element in array.\n",
    "    plus3 = []\n",
    "    \n",
    "    # array to store only 2 minimum minus element in array.\n",
    "    minus2 = []\n",
    "    for el in arr:\n",
    "        if el >= 0:\n",
    "            if len(plus3) < 3:\n",
    "                plus3.append(el)\n",
    "            else:\n",
    "                if plus3[0] < el:\n",
    "                    plus3[0] = el\n",
    "            plus3.sort()\n",
    "        # when element is minus.\n",
    "        else:\n",
    "            if len(minus2) < 2:\n",
    "                minus2.append(el)\n",
    "            else:\n",
    "                if minus2[1] > el:\n",
    "                    minus2[1] = el\n",
    "            minus2.sort()\n",
    "    \n",
    "    result = 1\n",
    "    \n",
    "    if len(minus2) == 0 or len(minus2) == 1:\n",
    "        for el in plus3:\n",
    "            result *= el\n",
    "    elif len(minus2) >= 2 and len(plus3) > 0:\n",
    "        result = max(minus2[0] * minus2[1], plus3[0]*plus3[1] )\n",
    "        result *= plus3[2]\n",
    "        \n",
    "    return result\n",
    "            "
   ]
  },
  {
   "cell_type": "code",
   "execution_count": 59,
   "metadata": {
    "collapsed": true
   },
   "outputs": [],
   "source": [
    "ar1 = [10, 3, 5, 6, 20]"
   ]
  },
  {
   "cell_type": "code",
   "execution_count": 60,
   "metadata": {
    "collapsed": false
   },
   "outputs": [
    {
     "data": {
      "text/plain": [
       "1200"
      ]
     },
     "execution_count": 60,
     "metadata": {},
     "output_type": "execute_result"
    }
   ],
   "source": [
    "max_prod(ar1)"
   ]
  },
  {
   "cell_type": "code",
   "execution_count": 63,
   "metadata": {
    "collapsed": true
   },
   "outputs": [],
   "source": [
    "ar2 = [99,-82,82,40,75,-24,39, -82, 5, 30, -25, -94, 93, -23, 48, 50, 49,-81,41,63]"
   ]
  },
  {
   "cell_type": "code",
   "execution_count": 64,
   "metadata": {
    "collapsed": false
   },
   "outputs": [
    {
     "data": {
      "text/plain": [
       "763092"
      ]
     },
     "execution_count": 64,
     "metadata": {},
     "output_type": "execute_result"
    }
   ],
   "source": [
    "max_prod(ar2)"
   ]
  },
  {
   "cell_type": "code",
   "execution_count": null,
   "metadata": {
    "collapsed": true
   },
   "outputs": [],
   "source": [
    "ar3 = "
   ]
  },
  {
   "cell_type": "code",
   "execution_count": null,
   "metadata": {
    "collapsed": true
   },
   "outputs": [],
   "source": []
  }
 ],
 "metadata": {
  "kernelspec": {
   "display_name": "Python 3",
   "language": "python",
   "name": "python3"
  },
  "language_info": {
   "codemirror_mode": {
    "name": "ipython",
    "version": 3
   },
   "file_extension": ".py",
   "mimetype": "text/x-python",
   "name": "python",
   "nbconvert_exporter": "python",
   "pygments_lexer": "ipython3",
   "version": "3.6.0"
  }
 },
 "nbformat": 4,
 "nbformat_minor": 2
}
