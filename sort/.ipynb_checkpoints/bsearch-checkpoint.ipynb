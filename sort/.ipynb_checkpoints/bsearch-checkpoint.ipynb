{
 "cells": [
  {
   "cell_type": "code",
   "execution_count": 1,
   "metadata": {
    "collapsed": false
   },
   "outputs": [
    {
     "ename": "SyntaxError",
     "evalue": "invalid syntax (<ipython-input-1-8d40021ddcbc>, line 9)",
     "output_type": "error",
     "traceback": [
      "\u001b[0;36m  File \u001b[0;32m\"<ipython-input-1-8d40021ddcbc>\"\u001b[0;36m, line \u001b[0;32m9\u001b[0m\n\u001b[0;31m    else if arr[mid] > ele:\u001b[0m\n\u001b[0m          ^\u001b[0m\n\u001b[0;31mSyntaxError\u001b[0m\u001b[0;31m:\u001b[0m invalid syntax\n"
     ]
    }
   ],
   "source": [
    "def b_search(arr, ele):\n",
    "    \n",
    "    mid = len(arr) / 2\n",
    "    if len(arr) == 0:\n",
    "        return -1\n",
    "    \n",
    "    if arr[mid] == ele:\n",
    "        return mid\n",
    "    else if arr[mid] > ele:\n",
    "        return b_search(arr[:mid],ele)\n",
    "    else if arr[mid] < ele:   \n",
    "        return b_search(arr[mid:], ele)"
   ]
  },
  {
   "cell_type": "code",
   "execution_count": null,
   "metadata": {
    "collapsed": true
   },
   "outputs": [],
   "source": []
  }
 ],
 "metadata": {
  "kernelspec": {
   "display_name": "Python 3",
   "language": "python",
   "name": "python3"
  },
  "language_info": {
   "codemirror_mode": {
    "name": "ipython",
    "version": 3
   },
   "file_extension": ".py",
   "mimetype": "text/x-python",
   "name": "python",
   "nbconvert_exporter": "python",
   "pygments_lexer": "ipython3",
   "version": "3.6.0"
  }
 },
 "nbformat": 4,
 "nbformat_minor": 2
}
