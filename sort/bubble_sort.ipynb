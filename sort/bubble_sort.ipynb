{
 "cells": [
  {
   "cell_type": "code",
   "execution_count": 40,
   "metadata": {
    "collapsed": false
   },
   "outputs": [],
   "source": [
    "def bubble_sort(arr):\n",
    "    lastUnsortedIndex = len(arr)-1\n",
    "    while lastUnsortedIndex >= 0:\n",
    "        print(arr)\n",
    "        for i in range(lastUnsortedIndex):\n",
    "            \n",
    "            if arr[i] > arr[i+1]:\n",
    "                arr[i], arr[i+1] = arr[i+1], arr[i]\n",
    "        lastUnsortedIndex -= 1\n",
    "    \n",
    "    return arr\n",
    "\n",
    "                \n",
    "        "
   ]
  },
  {
   "cell_type": "code",
   "execution_count": 41,
   "metadata": {
    "collapsed": false
   },
   "outputs": [
    {
     "name": "stdout",
     "output_type": "stream",
     "text": [
      "[9, 11, 4, 5, 7, 2, 4, 6]\n",
      "[9, 4, 5, 7, 2, 4, 6, 11]\n",
      "[4, 5, 7, 2, 4, 6, 9, 11]\n",
      "[4, 5, 2, 4, 6, 7, 9, 11]\n",
      "[4, 2, 4, 5, 6, 7, 9, 11]\n",
      "[2, 4, 4, 5, 6, 7, 9, 11]\n",
      "[2, 4, 4, 5, 6, 7, 9, 11]\n",
      "[2, 4, 4, 5, 6, 7, 9, 11]\n"
     ]
    },
    {
     "data": {
      "text/plain": [
       "[2, 4, 4, 5, 6, 7, 9, 11]"
      ]
     },
     "execution_count": 41,
     "metadata": {},
     "output_type": "execute_result"
    }
   ],
   "source": [
    "bubble_sort([9,11, 4,5,7,2,4,6])"
   ]
  },
  {
   "cell_type": "code",
   "execution_count": 42,
   "metadata": {
    "collapsed": true
   },
   "outputs": [],
   "source": [
    "def bubble_sort_sol(arr):\n",
    "    # For every element (arranged backwards)\n",
    "    for n in range(len(arr)-1,0,-1):\n",
    "        #\n",
    "        for k in range(n):\n",
    "            # If we come to a point to switch\n",
    "            if arr[k]>arr[k+1]:\n",
    "                temp = arr[k]\n",
    "                arr[k] = arr[k+1]\n",
    "                arr[k+1] = temp\n",
    "    return arr"
   ]
  },
  {
   "cell_type": "code",
   "execution_count": 31,
   "metadata": {
    "collapsed": false
   },
   "outputs": [
    {
     "data": {
      "text/plain": [
       "[2, 4, 4, 5, 6, 7, 9, 11]"
      ]
     },
     "execution_count": 31,
     "metadata": {},
     "output_type": "execute_result"
    }
   ],
   "source": [
    "bubble_sort_sol([9,11, 4,5,7,2,4,6])"
   ]
  },
  {
   "cell_type": "code",
   "execution_count": null,
   "metadata": {
    "collapsed": true
   },
   "outputs": [],
   "source": []
  },
  {
   "cell_type": "code",
   "execution_count": null,
   "metadata": {
    "collapsed": true
   },
   "outputs": [],
   "source": []
  }
 ],
 "metadata": {
  "kernelspec": {
   "display_name": "Python 3",
   "language": "python",
   "name": "python3"
  },
  "language_info": {
   "codemirror_mode": {
    "name": "ipython",
    "version": 3
   },
   "file_extension": ".py",
   "mimetype": "text/x-python",
   "name": "python",
   "nbconvert_exporter": "python",
   "pygments_lexer": "ipython3",
   "version": "3.6.0"
  }
 },
 "nbformat": 4,
 "nbformat_minor": 2
}
