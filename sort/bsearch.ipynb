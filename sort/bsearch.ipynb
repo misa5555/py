{
 "cells": [
  {
   "cell_type": "code",
   "execution_count": null,
   "metadata": {
    "collapsed": false
   },
   "outputs": [],
   "source": [
    "def b_search(arr, ele):\n",
    "    \n",
    "    mid = len(arr) / 2\n",
    "    if len(arr) == 0:\n",
    "        return -1\n",
    "    \n",
    "    if arr[mid] == ele:\n",
    "        return mid\n",
    "    elif arr[mid] > ele:\n",
    "        return b_search(arr[:mid],ele)\n",
    "    elif arr[mid] < ele:   \n",
    "        return b_search(arr[mid:], ele)"
   ]
  },
  {
   "cell_type": "code",
   "execution_count": null,
   "metadata": {
    "collapsed": true
   },
   "outputs": [],
   "source": []
  },
  {
   "cell_type": "code",
   "execution_count": null,
   "metadata": {
    "collapsed": false
   },
   "outputs": [],
   "source": [
    "# [0, 1,2,5,6,7]\n",
    "\n",
    "def b_search_2(arr, ele):\n",
    "    found = False\n",
    "    start = 0\n",
    "    last = len(arr) - 1\n",
    "    print(last)\n",
    "    \n",
    "    while start < last and found == False:\n",
    "        mid = start + last // 2\n",
    "        if arr[mid] == ele:\n",
    "            found = True\n",
    "        elif arr[mid] < ele:\n",
    "            start = mid + 1\n",
    "        else:\n",
    "            last = mid - 1\n",
    "            \n",
    "     \n",
    "    if found == True:\n",
    "        print(mid)\n",
    "    else:\n",
    "        print(-1)\n",
    "        "
   ]
  },
  {
   "cell_type": "code",
   "execution_count": null,
   "metadata": {
    "collapsed": false
   },
   "outputs": [],
   "source": [
    "b_search_2([1,2,3,4,5,8,9,10,13,16,19], 3)"
   ]
  },
  {
   "cell_type": "code",
   "execution_count": null,
   "metadata": {
    "collapsed": true
   },
   "outputs": [],
   "source": [
    "print(1)"
   ]
  },
  {
   "cell_type": "code",
   "execution_count": null,
   "metadata": {
    "collapsed": true
   },
   "outputs": [],
   "source": [
    "def test:\n",
    "    return 3"
   ]
  },
  {
   "cell_type": "raw",
   "metadata": {},
   "source": [
    "print(test())"
   ]
  },
  {
   "cell_type": "code",
   "execution_count": null,
   "metadata": {
    "collapsed": true
   },
   "outputs": [],
   "source": []
  },
  {
   "cell_type": "code",
   "execution_count": null,
   "metadata": {
    "collapsed": true
   },
   "outputs": [],
   "source": []
  }
 ],
 "metadata": {
  "kernelspec": {
   "display_name": "Python 3",
   "language": "python",
   "name": "python3"
  },
  "language_info": {
   "codemirror_mode": {
    "name": "ipython",
    "version": 3
   },
   "file_extension": ".py",
   "mimetype": "text/x-python",
   "name": "python",
   "nbconvert_exporter": "python",
   "pygments_lexer": "ipython3",
   "version": "3.6.0"
  }
 },
 "nbformat": 4,
 "nbformat_minor": 2
}
