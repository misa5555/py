{
 "cells": [
  {
   "cell_type": "code",
   "execution_count": 14,
   "metadata": {
    "collapsed": true
   },
   "outputs": [],
   "source": [
    "\n",
    "def balance_check(s):\n",
    "    store = []\n",
    "    dictionary = {'(':')', '{':'}', '[':']'}\n",
    "    for chr in s:\n",
    "        print(store)\n",
    "        if chr in dictionary:\n",
    "            store.append(chr)\n",
    "        else:\n",
    "            pair = store[-1]\n",
    "            if dictionary[pair] != chr:\n",
    "                return False\n",
    "            else:\n",
    "                store.pop()\n",
    "    return len(store) == 0       \n",
    "        "
   ]
  },
  {
   "cell_type": "code",
   "execution_count": null,
   "metadata": {
    "collapsed": true
   },
   "outputs": [],
   "source": []
  },
  {
   "cell_type": "code",
   "execution_count": 15,
   "metadata": {
    "collapsed": false
   },
   "outputs": [
    {
     "name": "stdout",
     "output_type": "stream",
     "text": [
      "[]\n",
      "['[']\n",
      "[]\n",
      "['(']\n",
      "[]\n",
      "['{']\n",
      "['{', '(']\n",
      "['{', '(', '[']\n",
      "['{', '(', '[', '[']\n",
      "['{', '(', '[', '[', '[']\n",
      "['{', '(', '[', '[']\n",
      "['{', '(', '[']\n",
      "['{', '(']\n",
      "['{']\n"
     ]
    },
    {
     "data": {
      "text/plain": [
       "True"
      ]
     },
     "execution_count": 15,
     "metadata": {},
     "output_type": "execute_result"
    }
   ],
   "source": [
    "balance_check('[](){([[[]]])}')"
   ]
  },
  {
   "cell_type": "code",
   "execution_count": 16,
   "metadata": {
    "collapsed": false
   },
   "outputs": [
    {
     "name": "stdout",
     "output_type": "stream",
     "text": [
      "[]\n",
      "['[']\n",
      "[]\n",
      "['(']\n",
      "[]\n",
      "['{']\n",
      "['{', '(']\n",
      "['{', '(', '[']\n",
      "['{', '(', '[', '[']\n",
      "['{', '(', '[', '[', '[']\n",
      "['{', '(', '[', '[']\n",
      "['{', '(', '[']\n",
      "['{', '(']\n",
      "['{']\n",
      "[]\n",
      "[]\n",
      "['[']\n",
      "['[', '{']\n",
      "['[', '{', '{']\n",
      "['[', '{', '{', '{']\n",
      "['[', '{', '{', '{', '(']\n",
      "['[', '{', '{', '{', '(', '(']\n",
      "['[', '{', '{', '{', '(']\n",
      "['[', '{', '{', '{']\n",
      "['[', '{', '{']\n",
      "['[', '{']\n",
      "['[']\n",
      "[]\n",
      "['(']\n",
      "['(', '(']\n",
      "['(', '(', '(']\n",
      "['(', '(']\n",
      "['(']\n",
      "[]\n",
      "['[']\n",
      "['[', '[']\n",
      "['[', '[', '[']\n",
      "['[', '[']\n",
      "['[']\n",
      "ALL TEST CASES PASSED\n"
     ]
    }
   ],
   "source": [
    "\"\"\"\n",
    "RUN THIS CELL TO TEST YOUR SOLUTION\n",
    "\"\"\"\n",
    "from nose.tools import assert_equal\n",
    "\n",
    "class TestBalanceCheck(object):\n",
    "    \n",
    "    def test(self,sol):\n",
    "        assert_equal(sol('[](){([[[]]])}('),False)\n",
    "        assert_equal(sol('[{{{(())}}}]((()))'),True)\n",
    "        assert_equal(sol('[[[]])]'),False)\n",
    "        print('ALL TEST CASES PASSED')\n",
    "        \n",
    "# Run Tests\n",
    "\n",
    "t = TestBalanceCheck()\n",
    "t.test(balance_check)"
   ]
  },
  {
   "cell_type": "code",
   "execution_count": null,
   "metadata": {
    "collapsed": true
   },
   "outputs": [],
   "source": []
  },
  {
   "cell_type": "code",
   "execution_count": null,
   "metadata": {
    "collapsed": true
   },
   "outputs": [],
   "source": []
  }
 ],
 "metadata": {
  "kernelspec": {
   "display_name": "Python 3",
   "language": "python",
   "name": "python3"
  },
  "language_info": {
   "codemirror_mode": {
    "name": "ipython",
    "version": 3
   },
   "file_extension": ".py",
   "mimetype": "text/x-python",
   "name": "python",
   "nbconvert_exporter": "python",
   "pygments_lexer": "ipython3",
   "version": "3.6.0"
  }
 },
 "nbformat": 4,
 "nbformat_minor": 2
}
